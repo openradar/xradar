{
 "cells": [
  {
   "cell_type": "markdown",
   "id": "f15f38bb-57f7-4104-8824-9feec9deee47",
   "metadata": {},
   "source": [
    "# Create a Plan Position Indicator (PPI) Plot\n",
    "A Plan Position Indicator (PPI) plot is a common plot requested by radar scientists. Let's show how to create this plot using `xradar`"
   ]
  },
  {
   "cell_type": "markdown",
   "id": "91562ade-05d4-4b1e-ab7b-720b04641c61",
   "metadata": {},
   "source": [
    "## Imports"
   ]
  },
  {
   "cell_type": "code",
   "execution_count": null,
   "id": "ce9365db-30f0-4df1-944f-b3c739c0ef99",
   "metadata": {},
   "outputs": [],
   "source": [
    "import os\n",
    "import xarray as xr\n",
    "import xradar as xd\n",
    "from urllib.parse import urljoin\n",
    "from urllib.request import urlretrieve"
   ]
  },
  {
   "cell_type": "markdown",
   "id": "100584b5-d600-4f93-980b-6c1dde9335a8",
   "metadata": {},
   "source": [
    "## Read in some data\n",
    "Fetching CfRadial1 radar data file from wradlib-data repository."
   ]
  },
  {
   "cell_type": "code",
   "execution_count": null,
   "id": "cf955c1f-fa3b-4545-b90a-7afcd9b11b31",
   "metadata": {},
   "outputs": [],
   "source": [
    "def fetch_cfradial1_file():\n",
    "    fname = \"cfradial1_data.nc\"\n",
    "    if not os.path.exists(fname):\n",
    "        base_url = \"https://raw.githubusercontent.com/wradlib/wradlib-data/main/netcdf/\"\n",
    "        filename = \"cfrad.20080604_002217_000_SPOL_v36_SUR.nc\"\n",
    "        url = urljoin(base_url, filename)\n",
    "        urlretrieve(url, filename=fname)\n",
    "    return fname\n",
    "\n",
    "\n",
    "filename = fetch_cfradial1_file()"
   ]
  },
  {
   "cell_type": "markdown",
   "id": "b88a784c-8a18-4a75-973e-5723acdcb4b0",
   "metadata": {},
   "source": [
    "Read the data using the `cfradial1` engine"
   ]
  },
  {
   "cell_type": "code",
   "execution_count": null,
   "id": "e97d5717-e6aa-4155-abe5-0960d846ed1c",
   "metadata": {},
   "outputs": [],
   "source": [
    "ds = xr.open_dataset(filename, group=\"sweep_0\", engine=\"cfradial1\")\n",
    "display(ds)"
   ]
  },
  {
   "cell_type": "markdown",
   "id": "7eb28292-d412-4b9f-b506-b983f750ae18",
   "metadata": {},
   "source": [
    "## Add georeferencing\n",
    "Notice how after applying georeferencing, using the `get_x_y_z` function, we have x, y, and z in our dataset!"
   ]
  },
  {
   "cell_type": "code",
   "execution_count": null,
   "id": "eaa2ee4c-98f2-41d2-b16e-9d05ad8608da",
   "metadata": {},
   "outputs": [],
   "source": [
    "ds = xd.georeference.get_x_y_z(ds)\n",
    "display(ds)"
   ]
  },
  {
   "cell_type": "markdown",
   "id": "72231f7d-2b93-4f15-a8c7-66e4f64f7f8f",
   "metadata": {},
   "source": [
    "## Plot our Data\n",
    "Now, let's create our PPI plot!"
   ]
  },
  {
   "cell_type": "code",
   "execution_count": null,
   "id": "c2f4cfaa-eba9-4b9d-8d84-7b60027ae0fb",
   "metadata": {},
   "outputs": [],
   "source": [
    "ds.DBZ.plot(x='x', y='y', cmap='inferno')"
   ]
  },
  {
   "cell_type": "code",
   "execution_count": null,
   "id": "b15b2c05-60a8-4eb0-b2c2-251cabafe7bb",
   "metadata": {},
   "outputs": [],
   "source": []
  }
 ],
 "metadata": {
  "kernelspec": {
   "display_name": "Python 3 (ipykernel)",
   "language": "python",
   "name": "python3"
  },
  "language_info": {
   "codemirror_mode": {
    "name": "ipython",
    "version": 3
   },
   "file_extension": ".py",
   "mimetype": "text/x-python",
   "name": "python",
   "nbconvert_exporter": "python",
   "pygments_lexer": "ipython3",
   "version": "3.10.6"
  }
 },
 "nbformat": 4,
 "nbformat_minor": 5
}
