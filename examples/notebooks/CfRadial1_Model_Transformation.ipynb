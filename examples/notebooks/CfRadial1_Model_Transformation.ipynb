{
 "cells": [
  {
   "cell_type": "markdown",
   "id": "0",
   "metadata": {},
   "source": [
    "# CfRadial1 to CfRadial2\n",
    "## A data model transformation\n",
    "\n",
    "In this notebook we show how to transform the CfRadial1 Data model to a CfRadial2 representation.\n",
    "\n",
    "We use some internal functions to show how xradar is working inside.\n",
    "\n",
    "Within this notebook we reference to the [CfRadial2.1 draft](https://github.com/NCAR/CfRadial/tree/master/docs). As long as the FM301 WMO standard is not finalized we will rely on the drafts presented."
   ]
  },
  {
   "cell_type": "code",
   "execution_count": null,
   "id": "1",
   "metadata": {},
   "outputs": [],
   "source": [
    "import os\n",
    "\n",
    "import xarray as xr\n",
    "from open_radar_data import DATASETS\n",
    "\n",
    "import xradar as xd"
   ]
  },
  {
   "cell_type": "markdown",
   "id": "2",
   "metadata": {},
   "source": [
    "## Download\n",
    "\n",
    "Fetching CfRadial1 radar data file from [open-radar-data](https://github.com/openradar/open-radar-data) repository."
   ]
  },
  {
   "cell_type": "code",
   "execution_count": null,
   "id": "3",
   "metadata": {},
   "outputs": [],
   "source": [
    "filename = DATASETS.fetch(\"cfrad.20080604_002217_000_SPOL_v36_SUR.nc\")"
   ]
  },
  {
   "cell_type": "markdown",
   "id": "4",
   "metadata": {},
   "source": [
    "## Open CfRadial1 file using xr.open_dataset\n",
    "\n",
    "Making use of the xarray `netcdf4` backend. We get back all data and metadata in one single CfRadial1 Dataset."
   ]
  },
  {
   "cell_type": "code",
   "execution_count": null,
   "id": "5",
   "metadata": {},
   "outputs": [],
   "source": [
    "ds = xr.open_dataset(filename, engine=\"netcdf4\")\n",
    "with xr.set_options(\n",
    "    display_expand_data_vars=True, display_expand_attrs=True, display_max_rows=1000\n",
    "):\n",
    "    display(ds.load())"
   ]
  },
  {
   "cell_type": "markdown",
   "id": "6",
   "metadata": {},
   "source": [
    "## Extract CfRadial2 Groups and Subgroups\n",
    "\n",
    "Now as we have the CfRadial1 Dataset we can work towards extracting the CfRadial2 groups and subgroups."
   ]
  },
  {
   "cell_type": "markdown",
   "id": "7",
   "metadata": {},
   "source": [
    "### Extract CfRadial2 Root-Group\n",
    "\n",
    "The following sections present the details of the information in the top-level (root) group of the\n",
    "data set.\n",
    "\n",
    "We use a convenience function to extract the CfRadial2 root group from the CfRadial1 Dataset. We can call this function with one kwarg:\n",
    "\n",
    "- `optional=False` - only mandatory data and metadata is imported, defaults to True"
   ]
  },
  {
   "cell_type": "markdown",
   "id": "8",
   "metadata": {},
   "source": [
    "#### optional=True"
   ]
  },
  {
   "cell_type": "code",
   "execution_count": null,
   "id": "9",
   "metadata": {},
   "outputs": [],
   "source": [
    "root = xd.io.backends.cfradial1._get_required_root_dataset(ds)\n",
    "with xr.set_options(\n",
    "    display_expand_data_vars=True, display_expand_attrs=True, display_max_rows=1000\n",
    "):\n",
    "    display(root.load())"
   ]
  },
  {
   "cell_type": "markdown",
   "id": "10",
   "metadata": {},
   "source": [
    "#### optional=False"
   ]
  },
  {
   "cell_type": "code",
   "execution_count": null,
   "id": "11",
   "metadata": {},
   "outputs": [],
   "source": [
    "root = xd.io.backends.cfradial1._get_required_root_dataset(ds, optional=False)\n",
    "with xr.set_options(\n",
    "    display_expand_data_vars=True, display_expand_attrs=True, display_max_rows=1000\n",
    "):\n",
    "    display(root)"
   ]
  },
  {
   "cell_type": "markdown",
   "id": "12",
   "metadata": {},
   "source": [
    "### Extract Root-Group metadata groups\n",
    "\n",
    "The Cfradial2 Data Model has a notion of root group metadata groups. Those groups provide additional metadata covering other aspects of the radar system.\n",
    "\n",
    "#### The radar_parameters sub-group\n",
    "\n",
    "This group holds radar parameters specific to a radar instrument. It's implemented as dictionary where the value can be used to override the name."
   ]
  },
  {
   "cell_type": "code",
   "execution_count": null,
   "id": "13",
   "metadata": {},
   "outputs": [],
   "source": [
    "display(xd.model.radar_parameters_subgroup)"
   ]
  },
  {
   "cell_type": "markdown",
   "id": "14",
   "metadata": {},
   "source": [
    "Again we use a convenience function to extract the group."
   ]
  },
  {
   "cell_type": "code",
   "execution_count": null,
   "id": "15",
   "metadata": {},
   "outputs": [],
   "source": [
    "radar_parameters = xd.io.backends.cfradial1._get_subgroup(\n",
    "    ds, xd.model.radar_parameters_subgroup\n",
    ")\n",
    "display(radar_parameters.load())"
   ]
  },
  {
   "cell_type": "markdown",
   "id": "16",
   "metadata": {},
   "source": [
    "#### The radar_calibration sub-group\n",
    "\n",
    "For a radar, a different calibration is required for each pulse width. Therefore the calibration\n",
    "variables are arrays. If only one calibration is available it is squeezed by the reader."
   ]
  },
  {
   "cell_type": "code",
   "execution_count": null,
   "id": "17",
   "metadata": {},
   "outputs": [],
   "source": [
    "display(xd.model.radar_calibration_subgroup)"
   ]
  },
  {
   "cell_type": "markdown",
   "id": "18",
   "metadata": {},
   "source": [
    "Again we use a convenience function to extract the group."
   ]
  },
  {
   "cell_type": "code",
   "execution_count": null,
   "id": "19",
   "metadata": {},
   "outputs": [],
   "source": [
    "radar_calibration = xd.io.backends.cfradial1._get_radar_calibration(ds)\n",
    "with xr.set_options(display_expand_data_vars=True):\n",
    "    if radar_calibration:\n",
    "        display(radar_calibration.load())"
   ]
  },
  {
   "cell_type": "markdown",
   "id": "20",
   "metadata": {},
   "source": [
    "#### The georeference_correction sub-group\n",
    "\n",
    "The following additional variables are used to quantify errors in the georeference data for moving\n",
    "platforms. These are constant for a volume."
   ]
  },
  {
   "cell_type": "code",
   "execution_count": null,
   "id": "21",
   "metadata": {},
   "outputs": [],
   "source": [
    "display(xd.model.georeferencing_correction_subgroup)"
   ]
  },
  {
   "cell_type": "markdown",
   "id": "22",
   "metadata": {},
   "source": [
    "Again we use a convenience function to extract the group."
   ]
  },
  {
   "cell_type": "code",
   "execution_count": null,
   "id": "23",
   "metadata": {},
   "outputs": [],
   "source": [
    "georeference_correction = xd.io.backends.cfradial1._get_subgroup(\n",
    "    ds, xd.model.georeferencing_correction_subgroup\n",
    ")\n",
    "with xr.set_options(display_expand_data_vars=True):\n",
    "    display(georeference_correction.load())"
   ]
  },
  {
   "cell_type": "markdown",
   "id": "24",
   "metadata": {},
   "source": [
    "### Sweep groups\n",
    "\n",
    "This section provides details of the information in each sweep group. The name of the sweep groups is found in the sweep_group_name array variable in the root group."
   ]
  },
  {
   "cell_type": "code",
   "execution_count": null,
   "id": "25",
   "metadata": {},
   "outputs": [],
   "source": [
    "root.sweep_group_name"
   ]
  },
  {
   "cell_type": "markdown",
   "id": "26",
   "metadata": {},
   "source": [
    "Again we use a convenience function to extract the different sweep groups.  We can call this function with kwargs:\n",
    "\n",
    "- `optional=False` - only mandatory data and metadata is imported, defaults to `True`\n",
    "- `first_dim=\"time` - return first dimension as `time`, defaults to`auto` (return either as `azimuth` (PPI) or `elevation` (RHI)to `time`\n",
    "- `site_coords=False` - do not add radar site coordinates to the Sweep-Dataset, defaults to `True`\n",
    "\n",
    "#### Examining first sweep with default kwargs."
   ]
  },
  {
   "cell_type": "code",
   "execution_count": null,
   "id": "27",
   "metadata": {},
   "outputs": [],
   "source": [
    "sweeps = xd.io.backends.cfradial1._get_sweep_groups(ds)\n",
    "with xr.set_options(display_expand_data_vars=True):\n",
    "    display(sweeps[\"sweep_0\"])"
   ]
  },
  {
   "cell_type": "markdown",
   "id": "28",
   "metadata": {},
   "source": [
    "#### Examining first sweep with `optional=False`"
   ]
  },
  {
   "cell_type": "code",
   "execution_count": null,
   "id": "29",
   "metadata": {},
   "outputs": [],
   "source": [
    "sweeps = xd.io.backends.cfradial1._get_sweep_groups(ds, optional=False)\n",
    "with xr.set_options(display_expand_data_vars=True):\n",
    "    display(sweeps[\"sweep_0\"])"
   ]
  },
  {
   "cell_type": "markdown",
   "id": "30",
   "metadata": {},
   "source": [
    "#### `optional=False` and `site_coords=False`"
   ]
  },
  {
   "cell_type": "code",
   "execution_count": null,
   "id": "31",
   "metadata": {},
   "outputs": [],
   "source": [
    "sweeps = xd.io.backends.cfradial1._get_sweep_groups(\n",
    "    ds, optional=False, site_coords=False\n",
    ")\n",
    "with xr.set_options(display_expand_data_vars=True):\n",
    "    display(sweeps[\"sweep_0\"])"
   ]
  },
  {
   "cell_type": "markdown",
   "id": "32",
   "metadata": {},
   "source": [
    "#### `optional=False`, `site_coords=True` and `first_dim=\"auto\"`"
   ]
  },
  {
   "cell_type": "code",
   "execution_count": null,
   "id": "33",
   "metadata": {},
   "outputs": [],
   "source": [
    "sweeps = xd.io.backends.cfradial1._get_sweep_groups(\n",
    "    ds, optional=False, site_coords=False, first_dim=\"time\"\n",
    ")\n",
    "with xr.set_options(display_expand_data_vars=True):\n",
    "    display(sweeps[\"sweep_0\"])"
   ]
  },
  {
   "cell_type": "markdown",
   "id": "34",
   "metadata": {},
   "source": [
    "## Read as CfRadial2 data representation\n",
    "\n",
    "xradar provides two easy ways to retrieve the CfRadial1 data as CfRadial2 groups.\n",
    "\n",
    "### DataTree\n",
    "\n",
    "This is the most complete representation as a DataTree. All groups and subgroups are represented in a tree-like structure. Can be parameterized using kwargs. Easy write to netCDF4."
   ]
  },
  {
   "cell_type": "code",
   "execution_count": null,
   "id": "35",
   "metadata": {},
   "outputs": [],
   "source": [
    "dtree = xd.io.open_cfradial1_datatree(filename)\n",
    "with xr.set_options(display_expand_data_vars=True, display_expand_attrs=True):\n",
    "    display(dtree)"
   ]
  },
  {
   "cell_type": "markdown",
   "id": "36",
   "metadata": {},
   "source": [
    "Each DataTree-node itself represents another DataTree."
   ]
  },
  {
   "cell_type": "code",
   "execution_count": null,
   "id": "37",
   "metadata": {},
   "outputs": [],
   "source": [
    "display(dtree[\"radar_parameters\"].load())"
   ]
  },
  {
   "cell_type": "code",
   "execution_count": null,
   "id": "38",
   "metadata": {},
   "outputs": [],
   "source": [
    "with xr.set_options(display_expand_data_vars=True):\n",
    "    display(dtree[\"sweep_7\"].load())"
   ]
  },
  {
   "cell_type": "markdown",
   "id": "39",
   "metadata": {},
   "source": [
    "#### Roundtrip with `to_netcdf`"
   ]
  },
  {
   "cell_type": "markdown",
   "id": "40",
   "metadata": {},
   "source": [
    "Write DataTree to netCDF4 file, reopen and compare with source. This just tets if roundtripping the DataTree works."
   ]
  },
  {
   "cell_type": "code",
   "execution_count": null,
   "id": "41",
   "metadata": {},
   "outputs": [],
   "source": [
    "outfile = \"test_dtree.nc\"\n",
    "if os.path.exists(outfile):\n",
    "    os.unlink(outfile)\n",
    "dtree.to_netcdf(outfile)"
   ]
  },
  {
   "cell_type": "code",
   "execution_count": null,
   "id": "42",
   "metadata": {},
   "outputs": [],
   "source": [
    "dtree2 = xr.open_datatree(outfile)\n",
    "with xr.set_options(display_expand_data_vars=True, display_expand_attrs=True):\n",
    "    display(dtree2)"
   ]
  },
  {
   "cell_type": "code",
   "execution_count": null,
   "id": "43",
   "metadata": {},
   "outputs": [],
   "source": [
    "for grp in dtree.groups:\n",
    "    print(grp)\n",
    "    xr.testing.assert_equal(dtree[grp].ds, dtree2[grp].ds)"
   ]
  },
  {
   "cell_type": "markdown",
   "id": "44",
   "metadata": {},
   "source": [
    "#### Roundtrip with `xradar.io.to_cfradial2`"
   ]
  },
  {
   "cell_type": "code",
   "execution_count": null,
   "id": "45",
   "metadata": {},
   "outputs": [],
   "source": [
    "dtree3 = xd.io.open_cfradial1_datatree(filename)"
   ]
  },
  {
   "cell_type": "code",
   "execution_count": null,
   "id": "46",
   "metadata": {},
   "outputs": [],
   "source": [
    "display(dtree3)"
   ]
  },
  {
   "cell_type": "code",
   "execution_count": null,
   "id": "47",
   "metadata": {},
   "outputs": [],
   "source": [
    "outfile = \"test_cfradial2.nc\"\n",
    "if os.path.exists(outfile):\n",
    "    os.unlink(outfile)\n",
    "xd.io.to_cfradial2(dtree3, outfile)"
   ]
  },
  {
   "cell_type": "code",
   "execution_count": null,
   "id": "48",
   "metadata": {},
   "outputs": [],
   "source": [
    "dtree4 = xr.open_datatree(\"test_cfradial2.nc\")\n",
    "with xr.set_options(display_expand_data_vars=True, display_expand_attrs=True):\n",
    "    display(dtree4)"
   ]
  },
  {
   "cell_type": "code",
   "execution_count": null,
   "id": "49",
   "metadata": {},
   "outputs": [],
   "source": [
    "for grp in dtree3.groups:\n",
    "    print(grp)\n",
    "    xr.testing.assert_equal(dtree3[grp].ds, dtree4[grp].ds)"
   ]
  },
  {
   "cell_type": "markdown",
   "id": "50",
   "metadata": {},
   "source": [
    "### Datasets\n",
    "\n",
    "Using xarray.open_dataset and the cfradial1-backend we can easily load specific groups side-stepping the DataTree.  Can be parameterized using kwargs."
   ]
  },
  {
   "cell_type": "code",
   "execution_count": null,
   "id": "51",
   "metadata": {},
   "outputs": [],
   "source": [
    "ds = xr.open_dataset(filename, group=\"sweep_1\", engine=\"cfradial1\", first_dim=\"time\")\n",
    "with xr.set_options(display_expand_data_vars=True):\n",
    "    display(ds.load())"
   ]
  },
  {
   "cell_type": "code",
   "execution_count": null,
   "id": "52",
   "metadata": {},
   "outputs": [],
   "source": [
    "ds = xr.open_dataset(filename, group=\"radar_parameters\", engine=\"cfradial1\")\n",
    "display(ds.load())"
   ]
  },
  {
   "cell_type": "markdown",
   "id": "53",
   "metadata": {},
   "source": [
    "## Conclusion\n",
    "\n",
    "CfRadial1 and CfRadial2 are based on the same principles with slightly different data representation. Nevertheless the conversion is relatively straighforward as has been shown here.\n",
    "\n",
    "As the implementation with the cfradial1 xarray backend on one hand and the DataTree on the other hand is very versatile users can pick the most usable approach for their workflows.\n"
   ]
  }
 ],
 "metadata": {
  "language_info": {
   "codemirror_mode": {
    "name": "ipython",
    "version": 3
   },
   "file_extension": ".py",
   "mimetype": "text/x-python",
   "name": "python",
   "nbconvert_exporter": "python",
   "pygments_lexer": "ipython3",
   "version": "3.10.6"
  }
 },
 "nbformat": 4,
 "nbformat_minor": 5
}
