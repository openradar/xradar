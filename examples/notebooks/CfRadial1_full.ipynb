{
 "cells": [
  {
   "cell_type": "markdown",
   "id": "59447ad6-ac47-494e-b696-4335b36b205b",
   "metadata": {
    "tags": []
   },
   "source": [
    "# CfRadial1 - Full"
   ]
  },
  {
   "cell_type": "code",
   "execution_count": null,
   "id": "6f96b5d8-2b96-4fd7-b8ba-166c34a8dcd2",
   "metadata": {},
   "outputs": [],
   "source": [
    "import os\n",
    "import xarray as xr\n",
    "import xradar as xd\n",
    "from urllib.parse import urljoin\n",
    "from urllib.request import urlretrieve"
   ]
  },
  {
   "cell_type": "markdown",
   "id": "33d50be4-dfe5-4d99-a936-67a9a76bac94",
   "metadata": {},
   "source": [
    "## Download\n",
    "\n",
    "Fetching CfRadial1 radar data file from wradlib-data repository."
   ]
  },
  {
   "cell_type": "code",
   "execution_count": null,
   "id": "d3c6d408-5ab2-43c3-afd1-b3a703ef3b24",
   "metadata": {},
   "outputs": [],
   "source": [
    "def fetch_cfradial1_file():\n",
    "    fname = \"cfradial1_data.nc\"\n",
    "    if not os.path.exists(fname):\n",
    "        base_url = \"https://raw.githubusercontent.com/wradlib/wradlib-data/main/netcdf/\"\n",
    "        filename = \"cfrad.20080604_002217_000_SPOL_v36_SUR.nc\"\n",
    "        url = urljoin(base_url, filename)\n",
    "        urlretrieve(url, filename=fname)\n",
    "    return fname\n",
    "\n",
    "\n",
    "filename = fetch_cfradial1_file()"
   ]
  },
  {
   "cell_type": "markdown",
   "id": "b987dcfd-5105-4483-932e-71b8002e5f09",
   "metadata": {},
   "source": [
    "## xr.open_dataset\n",
    "\n",
    "Making use of the xarray `cfradial1` backend. We also need to provide the group."
   ]
  },
  {
   "cell_type": "code",
   "execution_count": null,
   "id": "7675b518-18e4-4ea6-b101-f1bccf603902",
   "metadata": {},
   "outputs": [],
   "source": [
    "ds = xr.open_dataset(filename, group=\"sweep_0\", engine=\"cfradial1\")\n",
    "display(ds)"
   ]
  },
  {
   "cell_type": "markdown",
   "id": "5398dd18-e963-45c9-8d71-4fc38c759522",
   "metadata": {},
   "source": [
    "## backend_kwargs\n",
    "\n",
    "The cfradial1 backend has only one specific kwarg for now, `first_dim`.\n",
    "\n",
    "`first_dim` can be either `time` (default) or `auto`. On `auto` the first dimension is gathered from the sweep metadata and will be either `azimuth` or `elevation`. `first_dim` can be provided as `**kwargs` or inside `backend_kwargs`."
   ]
  },
  {
   "cell_type": "code",
   "execution_count": null,
   "id": "2f11f5f9-2151-42cf-97f6-4675e8094b09",
   "metadata": {},
   "outputs": [],
   "source": [
    "?xd.io.CfRadial1BackendEntrypoint"
   ]
  },
  {
   "cell_type": "code",
   "execution_count": null,
   "id": "6f7f47b3-6851-420c-8f4c-48dc0964abb2",
   "metadata": {},
   "outputs": [],
   "source": [
    "ds = xr.open_dataset(filename, group=\"sweep_0\", engine=\"cfradial1\", first_dim=\"auto\")\n",
    "display(ds)"
   ]
  },
  {
   "cell_type": "code",
   "execution_count": null,
   "id": "a94ddc98-59f4-423e-bf73-1d1c2a64d1f0",
   "metadata": {},
   "outputs": [],
   "source": [
    "ds = xr.open_dataset(\n",
    "    filename, group=\"sweep_1\", engine=\"cfradial1\", backend_kwargs=dict(first_dim=\"auto\")\n",
    ")\n",
    "display(ds)"
   ]
  },
  {
   "cell_type": "markdown",
   "id": "94228789-3545-44fb-b48b-6538b14190b9",
   "metadata": {},
   "source": [
    "## open_cfradial1_datatree\n",
    "\n",
    "The same works analoguous with the datatree loader. But additionally we can provide a sweep number or list."
   ]
  },
  {
   "cell_type": "code",
   "execution_count": null,
   "id": "3f3462e4-df7e-4fd1-93aa-b844b9df9943",
   "metadata": {},
   "outputs": [],
   "source": [
    "?xd.io.open_cfradial1_datatree"
   ]
  },
  {
   "cell_type": "code",
   "execution_count": null,
   "id": "327c7e57-a87c-41e4-9d07-9e3fcd3e6416",
   "metadata": {},
   "outputs": [],
   "source": [
    "dtree = xd.io.open_cfradial1_datatree(filename, first_dim=\"auto\", sweep=0)\n",
    "display(dtree)"
   ]
  },
  {
   "cell_type": "code",
   "execution_count": null,
   "id": "7438fa46-3511-4829-9029-69e8ee852a58",
   "metadata": {},
   "outputs": [],
   "source": [
    "dtree = xd.io.open_cfradial1_datatree(filename, first_dim=\"auto\", sweep=[0, 1, 8])\n",
    "display(dtree)"
   ]
  },
  {
   "cell_type": "code",
   "execution_count": null,
   "id": "6c2a5c3b-3979-437f-a302-4ec429f05f89",
   "metadata": {},
   "outputs": [],
   "source": [
    "dtree = xd.io.open_cfradial1_datatree(\n",
    "    filename, first_dim=\"auto\", sweep=[\"sweep_0\", \"sweep_4\", \"sweep_8\"]\n",
    ")\n",
    "display(dtree)"
   ]
  }
 ],
 "metadata": {
  "language_info": {
   "codemirror_mode": {
    "name": "ipython",
    "version": 3
   },
   "file_extension": ".py",
   "mimetype": "text/x-python",
   "name": "python",
   "nbconvert_exporter": "python",
   "pygments_lexer": "ipython3",
   "version": "3.9.13"
  }
 },
 "nbformat": 4,
 "nbformat_minor": 5
}
