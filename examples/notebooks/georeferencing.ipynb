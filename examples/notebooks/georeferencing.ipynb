{
 "cells": [
  {
   "cell_type": "markdown",
   "id": "0",
   "metadata": {},
   "source": [
    "# Georeferencing"
   ]
  },
  {
   "cell_type": "markdown",
   "id": "1",
   "metadata": {},
   "source": [
    "This notebook shows how to add Cartesian (x, y, z) and geographic (lat, lon, alt) coordinates to radar data using xradar.\n",
    "\n",
    "\n",
    "- **DataTree** refers to [xarray.DataTree](https://docs.xarray.dev/en/stable/generated/xarray.DataTree.html#xarray.DataTree)\n",
    "- **Dataset** refers to [xarray.Dataset](https://docs.xarray.dev/en/stable/generated/xarray.Dataset.html#xarray.Dataset)\n",
    "- **DataArray** refers to [xarray.DataArray](https://docs.xarray.dev/en/stable/generated/xarray.DataArray.html#xarray.DataArray)"
   ]
  },
  {
   "cell_type": "code",
   "execution_count": null,
   "id": "2",
   "metadata": {},
   "outputs": [],
   "source": [
    "import xradar as xd\n",
    "import xarray as xr\n",
    "import cmweather  # noqa\n",
    "import matplotlib.pyplot as plt\n",
    "import matplotlib.ticker as ticker\n",
    "from open_radar_data import DATASETS\n",
    "import warnings\n",
    "\n",
    "warnings.simplefilter(\"ignore\")"
   ]
  },
  {
   "cell_type": "markdown",
   "id": "3",
   "metadata": {},
   "source": [
    "## Read Data"
   ]
  },
  {
   "cell_type": "code",
   "execution_count": null,
   "id": "4",
   "metadata": {},
   "outputs": [],
   "source": [
    "file = DATASETS.fetch(\"sample_rainbow_5_59.vol\")"
   ]
  },
  {
   "cell_type": "code",
   "execution_count": null,
   "id": "5",
   "metadata": {},
   "outputs": [],
   "source": [
    "radar = xd.io.open_rainbow_datatree(file)"
   ]
  },
  {
   "cell_type": "markdown",
   "id": "6",
   "metadata": {},
   "source": [
    "## Georeferencing (Cartesian)"
   ]
  },
  {
   "cell_type": "code",
   "execution_count": null,
   "id": "7",
   "metadata": {},
   "outputs": [],
   "source": [
    "radar = radar.xradar.georeference()"
   ]
  },
  {
   "cell_type": "code",
   "execution_count": null,
   "id": "8",
   "metadata": {},
   "outputs": [],
   "source": [
    "display(radar[\"sweep_0\"].ds)"
   ]
  },
  {
   "cell_type": "markdown",
   "id": "9",
   "metadata": {},
   "source": [
    "- **Notice that the radar DataTree now includes x, y, and z coordinates.**\n",
    "- **Next, let’s add lat, lon, and alt coordinates.**"
   ]
  },
  {
   "cell_type": "code",
   "execution_count": null,
   "id": "10",
   "metadata": {},
   "outputs": [],
   "source": [
    "del radar"
   ]
  },
  {
   "cell_type": "markdown",
   "id": "11",
   "metadata": {},
   "source": [
    "## Georeferencing (Geographic)"
   ]
  },
  {
   "cell_type": "code",
   "execution_count": null,
   "id": "12",
   "metadata": {},
   "outputs": [],
   "source": [
    "# Reading data again\n",
    "radar = xd.io.open_rainbow_datatree(file)"
   ]
  },
  {
   "cell_type": "code",
   "execution_count": null,
   "id": "13",
   "metadata": {},
   "outputs": [],
   "source": [
    "radar = radar.xradar.georeference(geo=True)\n",
    "display(radar[\"sweep_0\"].ds)"
   ]
  },
  {
   "cell_type": "markdown",
   "id": "14",
   "metadata": {},
   "source": [
    "- **When geo=True, lat, lon, and alt coordinates are added instead.**"
   ]
  },
  {
   "cell_type": "code",
   "execution_count": null,
   "id": "15",
   "metadata": {},
   "outputs": [],
   "source": [
    "del radar"
   ]
  },
  {
   "cell_type": "markdown",
   "id": "16",
   "metadata": {},
   "source": [
    "## Other Uses"
   ]
  },
  {
   "cell_type": "markdown",
   "id": "17",
   "metadata": {},
   "source": [
    "- **You can also add these coordinates to a single DataArray or Dataset.**"
   ]
  },
  {
   "cell_type": "code",
   "execution_count": null,
   "id": "18",
   "metadata": {},
   "outputs": [],
   "source": [
    "# Reading data again\n",
    "radar = xd.io.open_rainbow_datatree(file)"
   ]
  },
  {
   "cell_type": "markdown",
   "id": "19",
   "metadata": {},
   "source": [
    "## Assign both cartesian and geographic coords"
   ]
  },
  {
   "cell_type": "code",
   "execution_count": null,
   "id": "20",
   "metadata": {},
   "outputs": [],
   "source": [
    "radar = radar.xradar.georeference().xradar.georeference(geo=True)\n",
    "display(radar[\"sweep_0\"])"
   ]
  },
  {
   "cell_type": "code",
   "execution_count": null,
   "id": "21",
   "metadata": {},
   "outputs": [],
   "source": [
    "del radar"
   ]
  },
  {
   "cell_type": "markdown",
   "id": "22",
   "metadata": {},
   "source": [
    "## Assign to Dataset"
   ]
  },
  {
   "cell_type": "code",
   "execution_count": null,
   "id": "23",
   "metadata": {},
   "outputs": [],
   "source": [
    "# Reading data again\n",
    "radar = xd.io.open_rainbow_datatree(file)"
   ]
  },
  {
   "cell_type": "code",
   "execution_count": null,
   "id": "24",
   "metadata": {},
   "outputs": [],
   "source": [
    "ds = radar[\"sweep_0\"].to_dataset()"
   ]
  },
  {
   "cell_type": "code",
   "execution_count": null,
   "id": "25",
   "metadata": {},
   "outputs": [],
   "source": [
    "display(ds)"
   ]
  },
  {
   "cell_type": "code",
   "execution_count": null,
   "id": "26",
   "metadata": {},
   "outputs": [],
   "source": [
    "# Attach both types of coords\n",
    "ds = ds.xradar.georeference().xradar.georeference(geo=True)\n",
    "display(ds)"
   ]
  },
  {
   "cell_type": "code",
   "execution_count": null,
   "id": "27",
   "metadata": {},
   "outputs": [],
   "source": [
    "ds = ds.drop(labels=[\"x\", \"y\", \"z\", \"lat\", \"lon\", \"alt\"])"
   ]
  },
  {
   "cell_type": "markdown",
   "id": "28",
   "metadata": {},
   "source": [
    "## Assign to DataArray"
   ]
  },
  {
   "cell_type": "code",
   "execution_count": null,
   "id": "29",
   "metadata": {},
   "outputs": [],
   "source": [
    "reflectivity = ds[\"DBZH\"]"
   ]
  },
  {
   "cell_type": "code",
   "execution_count": null,
   "id": "30",
   "metadata": {},
   "outputs": [],
   "source": [
    "reflectivity = reflectivity.xradar.georeference().xradar.georeference(geo=True)\n",
    "display(reflectivity)"
   ]
  },
  {
   "cell_type": "markdown",
   "id": "31",
   "metadata": {},
   "source": [
    "## Plot"
   ]
  },
  {
   "cell_type": "code",
   "execution_count": null,
   "id": "32",
   "metadata": {},
   "outputs": [],
   "source": [
    "fig, ax = plt.subplots(1, 2, figsize=(10, 5.5))\n",
    "\n",
    "# Cartesian plot with x, y in km\n",
    "reflectivity.plot(\n",
    "    x=\"x\",\n",
    "    y=\"y\",\n",
    "    add_colorbar=False,\n",
    "    vmin=-10,\n",
    "    vmax=60,\n",
    "    cmap=\"NWSRef\",\n",
    "    ax=ax[0],\n",
    ")\n",
    "ax[0].set_title(\"Reflectivity (Cartesian)\")\n",
    "ax[0].xaxis.set_major_formatter(ticker.FuncFormatter(lambda val, pos: f\"{val/1e3:.0f}\"))\n",
    "ax[0].yaxis.set_major_formatter(ticker.FuncFormatter(lambda val, pos: f\"{val/1e3:.0f}\"))\n",
    "ax[0].set_xlabel(\"x (km)\")\n",
    "ax[0].set_ylabel(\"y (km)\")\n",
    "\n",
    "# Geographic plot with lon, lat\n",
    "pl = reflectivity.plot(\n",
    "    x=\"lon\",\n",
    "    y=\"lat\",\n",
    "    add_colorbar=False,\n",
    "    vmin=-10,\n",
    "    vmax=60,\n",
    "    cmap=\"NWSRef\",\n",
    "    ax=ax[1],\n",
    ")\n",
    "ax[1].set_title(\"Reflectivity (Geographic)\")\n",
    "ax[1].set_xlabel(\"Longitude\")\n",
    "ax[1].set_ylabel(\"Latitude\")\n",
    "\n",
    "# Add a centered colorbar below the plots\n",
    "cbar = fig.colorbar(pl, ax=ax, orientation=\"horizontal\", fraction=0.05, pad=-0.25)\n",
    "cbar.set_label(\"Reflectivity (dBZ)\")\n",
    "\n",
    "for ax in ax.flat:\n",
    "    ax.minorticks_on()\n",
    "    ax.grid(ls=\"--\", lw=0.5)\n",
    "\n",
    "plt.tight_layout()\n",
    "plt.show()"
   ]
  },
  {
   "cell_type": "markdown",
   "id": "33",
   "metadata": {},
   "source": [
    "These transformations make radar data more versatile for analysis and visualization. You can apply these enhancements to entire DataTree structures or individual Dataset and DataArray objects, making xradar a flexible tool for radar data processing."
   ]
  }
 ],
 "metadata": {
  "language_info": {
   "codemirror_mode": {
    "name": "ipython",
    "version": 3
   },
   "file_extension": ".py",
   "mimetype": "text/x-python",
   "name": "python",
   "nbconvert_exporter": "python",
   "pygments_lexer": "ipython3",
   "version": "3.12.7"
  }
 },
 "nbformat": 4,
 "nbformat_minor": 5
}
