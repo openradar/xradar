{
 "cells": [
  {
   "cell_type": "markdown",
   "id": "21d5c274-9c13-487f-b730-e81b51ba3dc8",
   "metadata": {},
   "source": [
    "# How to Read in Multiple Volume Scans Into a Single Object"
   ]
  },
  {
   "cell_type": "markdown",
   "id": "be04f4a4-6785-4c14-826c-e5658d7d5a58",
   "metadata": {},
   "source": [
    "## Imports"
   ]
  },
  {
   "cell_type": "code",
   "execution_count": null,
   "id": "8836d8f2-73bc-44a6-9497-ef4db1d23deb",
   "metadata": {},
   "outputs": [],
   "source": [
    "import xradar as xd\n",
    "import xarray as xr\n",
    "import numpy as np\n",
    "import act\n",
    "import glob\n",
    "import pyart\n",
    "import matplotlib.pyplot as plt\n",
    "import cartopy.crs as ccrs\n",
    "from open_radar_data import DATASETS"
   ]
  },
  {
   "cell_type": "code",
   "execution_count": null,
   "id": "812e71e6-c342-4a69-afaf-b9b522ec5508",
   "metadata": {},
   "outputs": [],
   "source": [
    "radar_files = [\n",
    "    \"gucxprecipradarcmacppiS2.c1.20220314.021559.nc\",\n",
    "    \"gucxprecipradarcmacppiS2.c1.20220314.024239.nc\",\n",
    "    \"gucxprecipradarcmacppiS2.c1.20220314.025840.nc\",\n",
    "]\n",
    "files = [DATASETS.fetch(file) for file in radar_files]"
   ]
  },
  {
   "cell_type": "markdown",
   "id": "ac4b54b5-7da0-41ac-b3d4-cf38bd359a8f",
   "metadata": {},
   "source": [
    "## Access the Data"
   ]
  },
  {
   "cell_type": "code",
   "execution_count": null,
   "id": "f6d452fe-0629-4b43-af5f-0ceaae181e65",
   "metadata": {},
   "outputs": [],
   "source": [
    "ds = xr.open_dataset(files[0], engine=\"cfradial1\", group=\"sweep_0\")"
   ]
  },
  {
   "cell_type": "code",
   "execution_count": null,
   "id": "4fb67393-a88b-4881-8db4-37a464967a40",
   "metadata": {},
   "outputs": [],
   "source": [
    "def fix_angle(ds):\n",
    "    ds[\"time\"] = ds.time.load()  # Convert time from dask to numpy\n",
    "\n",
    "    start_ang = 0  # Set consistent start/end values\n",
    "    stop_ang = 360\n",
    "\n",
    "    # Find the median angle resolution\n",
    "    angle_res = ds.azimuth.diff(\"azimuth\").median()\n",
    "\n",
    "    # Determine whether the radar is spinning clockwise or counterclockwise\n",
    "    median_diff = ds.azimuth.diff(\"time\").median()\n",
    "    ascending = median_diff > 0\n",
    "    direction = 1 if ascending else -1\n",
    "\n",
    "    # first find exact duplicates and remove\n",
    "    ds = xd.util.remove_duplicate_rays(ds)\n",
    "\n",
    "    # second reindex according to retrieved parameters\n",
    "    ds = xd.util.reindex_angle(\n",
    "        ds, start_ang, stop_ang, angle_res, direction, method=\"nearest\"\n",
    "    )\n",
    "\n",
    "    ds = ds.expand_dims(\"volume_time\")  # Expand for volumes for concatenation\n",
    "\n",
    "    ds[\"volume_time\"] = [np.nanmin(ds.time.values)]\n",
    "\n",
    "    return ds"
   ]
  },
  {
   "cell_type": "code",
   "execution_count": null,
   "id": "44092459-1eda-46ea-b8f4-a61d1a825e66",
   "metadata": {},
   "outputs": [],
   "source": [
    "# Concatenate in xarray ds\n",
    "ds = xr.open_mfdataset(\n",
    "    files,\n",
    "    preprocess=fix_angle,\n",
    "    engine=\"cfradial1\",\n",
    "    group=\"sweep_0\",\n",
    "    concat_dim=\"volume_time\",\n",
    "    combine=\"nested\",\n",
    ")"
   ]
  },
  {
   "cell_type": "code",
   "execution_count": null,
   "id": "8c7c6077-f5a2-4b97-aa14-f2972f7b0320",
   "metadata": {},
   "outputs": [],
   "source": [
    "ds = ds.xradar.georeference()"
   ]
  },
  {
   "cell_type": "code",
   "execution_count": null,
   "id": "0009f638-4ca1-4025-8a99-97bfaac88058",
   "metadata": {},
   "outputs": [],
   "source": [
    "ds.isel(volume_time=0).DBZ.plot(x=\"x\", y=\"y\", cmap=\"Spectral_r\", vmin=-20, vmax=60)"
   ]
  },
  {
   "cell_type": "code",
   "execution_count": null,
   "id": "8df9153b-6980-4362-8efd-39b077aa9e2a",
   "metadata": {},
   "outputs": [],
   "source": [
    "xd.georeference.get_crs(ds)\n",
    "cart_crs = ccrs.Projection(proj_crs)"
   ]
  },
  {
   "cell_type": "code",
   "execution_count": null,
   "id": "002ca145-5ad6-43d5-a726-4554b9dffb6a",
   "metadata": {},
   "outputs": [],
   "source": []
  }
 ],
 "metadata": {
  "kernelspec": {
   "display_name": "Python 3 (ipykernel)",
   "language": "python",
   "name": "python3"
  },
  "language_info": {
   "codemirror_mode": {
    "name": "ipython",
    "version": 3
   },
   "file_extension": ".py",
   "mimetype": "text/x-python",
   "name": "python",
   "nbconvert_exporter": "python",
   "pygments_lexer": "ipython3",
   "version": "3.10.6"
  }
 },
 "nbformat": 4,
 "nbformat_minor": 5
}
