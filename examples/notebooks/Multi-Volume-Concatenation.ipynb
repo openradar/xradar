{
 "cells": [
  {
   "cell_type": "markdown",
   "id": "21d5c274-9c13-487f-b730-e81b51ba3dc8",
   "metadata": {},
   "source": [
    "# How to Read in Multiple Volume Scans Into a Single Object"
   ]
  },
  {
   "cell_type": "markdown",
   "id": "be04f4a4-6785-4c14-826c-e5658d7d5a58",
   "metadata": {},
   "source": [
    "## Imports"
   ]
  },
  {
   "cell_type": "code",
   "execution_count": null,
   "id": "8836d8f2-73bc-44a6-9497-ef4db1d23deb",
   "metadata": {},
   "outputs": [],
   "source": [
    "import xradar as xd\n",
    "import xarray as xr\n",
    "import act\n",
    "import glob\n",
    "import pyart\n",
    "from pathlib import Path"
   ]
  },
  {
   "cell_type": "markdown",
   "id": "ac4b54b5-7da0-41ac-b3d4-cf38bd359a8f",
   "metadata": {},
   "source": [
    "## Access the Data"
   ]
  },
  {
   "cell_type": "code",
   "execution_count": null,
   "id": "8b1f9843-1b1f-4de5-b5d5-8bebb3e2e32a",
   "metadata": {},
   "outputs": [],
   "source": [
    "files = sorted(glob.glob(\"sample-subset-data/*\"))\n",
    "files"
   ]
  },
  {
   "cell_type": "code",
   "execution_count": null,
   "id": "f6d452fe-0629-4b43-af5f-0ceaae181e65",
   "metadata": {},
   "outputs": [],
   "source": [
    "ds = xr.open_dataset(files[0], engine=\"cfradial1\", group=\"sweep_0\")"
   ]
  },
  {
   "cell_type": "code",
   "execution_count": null,
   "id": "4fb67393-a88b-4881-8db4-37a464967a40",
   "metadata": {},
   "outputs": [],
   "source": [
    "def fix_angle(ds):\n",
    "    ds[\"time\"] = ds.time.load()  # Convert time from dask to numpy\n",
    "\n",
    "    start_ang = 0  # Set consistent start/end values\n",
    "    stop_ang = 360\n",
    "    angle_dict = xd.util.extract_angle_parameters(ds)\n",
    "\n",
    "    angle_res = 0.3\n",
    "    direction = angle_dict[\"direction\"]\n",
    "\n",
    "    # first find exact duplicates and remove\n",
    "    ds = xd.util.remove_duplicate_rays(ds)\n",
    "\n",
    "    # second reindex according to retrieved parameters\n",
    "    ds = xd.util.reindex_angle(\n",
    "        ds, start_ang, stop_ang, angle_res, direction, method=\"nearest\"\n",
    "    )\n",
    "\n",
    "    ds = ds.expand_dims(\"volume_time\")  # Expand for volumes for concatenation\n",
    "\n",
    "    ds[\"volume_time\"] = [ds.time.min(\"azimuth\").values]\n",
    "\n",
    "    return ds"
   ]
  },
  {
   "cell_type": "code",
   "execution_count": null,
   "id": "44092459-1eda-46ea-b8f4-a61d1a825e66",
   "metadata": {},
   "outputs": [],
   "source": [
    "# Concatenate in xarray ds\n",
    "ds = xr.open_mfdataset(\n",
    "    files,\n",
    "    preprocess=fix_angle,\n",
    "    engine=\"cfradial1\",\n",
    "    group=\"sweep_0\",\n",
    "    concat_dim=\"volume_time\",\n",
    "    combine=\"nested\",\n",
    ")"
   ]
  },
  {
   "cell_type": "code",
   "execution_count": null,
   "id": "d5af799a-cb4d-45b7-8fb9-d45fb5031c63",
   "metadata": {},
   "outputs": [],
   "source": []
  }
 ],
 "metadata": {
  "kernelspec": {
   "display_name": "Python 3 (ipykernel)",
   "language": "python",
   "name": "python3"
  },
  "language_info": {
   "codemirror_mode": {
    "name": "ipython",
    "version": 3
   },
   "file_extension": ".py",
   "mimetype": "text/x-python",
   "name": "python",
   "nbconvert_exporter": "python",
   "pygments_lexer": "ipython3",
   "version": "3.10.6"
  }
 },
 "nbformat": 4,
 "nbformat_minor": 5
}
