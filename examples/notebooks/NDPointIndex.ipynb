{
 "cells": [
  {
   "cell_type": "markdown",
   "id": "0",
   "metadata": {},
   "source": [
    "# NDPointIndex\n",
    "\n",
    "Needs latest xarray '2025.7.1'"
   ]
  },
  {
   "cell_type": "code",
   "execution_count": null,
   "id": "1",
   "metadata": {},
   "outputs": [],
   "source": [
    "import numpy as np\n",
    "import xarray as xr\n",
    "import wradlib as wrl"
   ]
  },
  {
   "cell_type": "code",
   "execution_count": null,
   "id": "2",
   "metadata": {},
   "outputs": [],
   "source": [
    "from xarray.indexes import NDPointIndex"
   ]
  },
  {
   "cell_type": "code",
   "execution_count": null,
   "id": "3",
   "metadata": {},
   "outputs": [],
   "source": [
    "xr.__version__"
   ]
  },
  {
   "cell_type": "markdown",
   "id": "4",
   "metadata": {},
   "source": [
    "## Load radar data + georeference + NDPointIndex"
   ]
  },
  {
   "cell_type": "code",
   "execution_count": null,
   "id": "5",
   "metadata": {},
   "outputs": [],
   "source": [
    "fname = \"/automount/radar/scans/2021/2021-07/2021-07-14/n_ppi_010deg/n_ppi_010deg_12345_20210714160331_00.h5\"\n",
    "ds = xr.open_dataset(fname, engine=\"gamic\", group=\"sweep_0\").xradar.georeference()\n",
    "ds = ds.set_xindex((\"x\", \"y\"), xr.indexes.NDPointIndex)"
   ]
  },
  {
   "cell_type": "code",
   "execution_count": null,
   "id": "6",
   "metadata": {},
   "outputs": [],
   "source": [
    "ds.DBZH.plot(x=\"x\", y=\"y\", xlim=(-10e3, 10e3), ylim=(-10e3, 10e3))"
   ]
  },
  {
   "cell_type": "markdown",
   "id": "7",
   "metadata": {},
   "source": [
    "## Selection + coordinate assignment -> nearest neighbour interpolation\n",
    "\n",
    "1. Create 1D DataArrays for x and y selection\n",
    "2. use .sel with above 1D DataArrays\n",
    "3. assign those DataArrays to selection"
   ]
  },
  {
   "cell_type": "code",
   "execution_count": null,
   "id": "8",
   "metadata": {},
   "outputs": [],
   "source": [
    "%%time\n",
    "y = xr.DataArray(np.arange(-100e3, 100e3, 500), dims=\"y\", name=\"y\", attrs=ds.y.attrs)\n",
    "x = xr.DataArray(np.arange(-100e3, 100e3, 500), dims=\"x\", name=\"x\", attrs=ds.x.attrs)\n",
    "\n",
    "actual = ds.sel(\n",
    "    y=y,\n",
    "    x=x,\n",
    "    method=\"nearest\",\n",
    ")\n",
    "\n",
    "actual = actual.assign(\n",
    "    x=x,\n",
    "    y=y,\n",
    ")"
   ]
  },
  {
   "cell_type": "code",
   "execution_count": null,
   "id": "9",
   "metadata": {},
   "outputs": [],
   "source": [
    "display(actual)"
   ]
  },
  {
   "cell_type": "code",
   "execution_count": null,
   "id": "10",
   "metadata": {},
   "outputs": [],
   "source": [
    "actual.DBZH.plot(xlim=(-10e3, 10e3), ylim=(-10e3, 10e3))"
   ]
  },
  {
   "cell_type": "markdown",
   "id": "11",
   "metadata": {},
   "source": [
    "## wradlib nearest neighbour\n",
    "\n",
    "Simple wradlib approach, not fixed for performance."
   ]
  },
  {
   "cell_type": "code",
   "execution_count": null,
   "id": "12",
   "metadata": {},
   "outputs": [],
   "source": [
    "%%time\n",
    "xgrid = np.arange(-100e3, 100e3, 500)\n",
    "ygrid = np.arange(-100e3, 100e3, 500)\n",
    "cart = xr.Dataset(coords={\"x\": x, \"y\": y})\n",
    "with xr.set_options(keep_attrs=True):\n",
    "    gridded = ds.wrl.comp.togrid(\n",
    "        cart, radius=100000.0, center=(0, 0), interpol=wrl.ipol.Nearest\n",
    "    )"
   ]
  },
  {
   "cell_type": "code",
   "execution_count": null,
   "id": "13",
   "metadata": {},
   "outputs": [],
   "source": [
    "display(gridded)"
   ]
  },
  {
   "cell_type": "code",
   "execution_count": null,
   "id": "14",
   "metadata": {},
   "outputs": [],
   "source": [
    "gridded.DBZH.plot(xlim=(-10e3, 10e3), ylim=(-10e3, 10e3))"
   ]
  },
  {
   "cell_type": "markdown",
   "id": "15",
   "metadata": {},
   "source": [
    "## Check for equality"
   ]
  },
  {
   "cell_type": "code",
   "execution_count": null,
   "id": "16",
   "metadata": {},
   "outputs": [],
   "source": [
    "assert (gridded.DBZH - actual.DBZH).sum() == 0"
   ]
  },
  {
   "cell_type": "markdown",
   "id": "17",
   "metadata": {},
   "source": [
    "## Plot "
   ]
  },
  {
   "cell_type": "code",
   "execution_count": null,
   "id": "18",
   "metadata": {},
   "outputs": [],
   "source": [
    "import matplotlib.pyplot as plt\n",
    "\n",
    "fig = plt.figure(figsize=(12, 4))\n",
    "ax1 = fig.add_subplot(121)\n",
    "ax2 = fig.add_subplot(122)\n",
    "actual.DBZH.plot(ax=ax1, xlim=(-10e3, 10e3), ylim=(-10e3, 10e3), cmap=\"HomeyerRainbow\")\n",
    "gridded.DBZH.plot(ax=ax2, xlim=(-10e3, 10e3), ylim=(-10e3, 10e3), cmap=\"HomeyerRainbow\")"
   ]
  }
 ],
 "metadata": {
  "language_info": {
   "codemirror_mode": {
    "name": "ipython",
    "version": 3
   },
   "file_extension": ".py",
   "mimetype": "text/x-python",
   "name": "python",
   "nbconvert_exporter": "python",
   "pygments_lexer": "ipython3",
   "version": "3.12.8"
  }
 },
 "nbformat": 4,
 "nbformat_minor": 5
}
