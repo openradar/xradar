{
 "cells": [
  {
   "cell_type": "markdown",
   "id": "59447ad6-ac47-494e-b696-4335b36b205b",
   "metadata": {
    "tags": []
   },
   "source": [
    "# Rainbow - Full"
   ]
  },
  {
   "cell_type": "code",
   "execution_count": null,
   "id": "6f96b5d8-2b96-4fd7-b8ba-166c34a8dcd2",
   "metadata": {},
   "outputs": [],
   "source": [
    "import os\n",
    "import xarray as xr\n",
    "import xradar as xd\n",
    "from urllib.parse import urljoin\n",
    "from urllib.request import urlretrieve"
   ]
  },
  {
   "cell_type": "markdown",
   "id": "33d50be4-dfe5-4d99-a936-67a9a76bac94",
   "metadata": {},
   "source": [
    "## Download\n",
    "\n",
    "Fetching Rainbow radar data file from wradlib-data repository."
   ]
  },
  {
   "cell_type": "code",
   "execution_count": null,
   "id": "d3c6d408-5ab2-43c3-afd1-b3a703ef3b24",
   "metadata": {},
   "outputs": [],
   "source": [
    "def fetch_rainbow_file():\n",
    "    fname = \"rainbow_data.vol\"\n",
    "    if not os.path.exists(fname):\n",
    "        base_url = (\n",
    "            \"https://raw.githubusercontent.com/wradlib/wradlib-data/main/rainbow/\"\n",
    "        )\n",
    "        filename = \"2013051000000600dBZ.vol\"\n",
    "        url = urljoin(base_url, filename)\n",
    "        urlretrieve(url, filename=fname)\n",
    "    return fname\n",
    "\n",
    "\n",
    "filename = fetch_rainbow_file()"
   ]
  },
  {
   "cell_type": "markdown",
   "id": "b987dcfd-5105-4483-932e-71b8002e5f09",
   "metadata": {},
   "source": [
    "## xr.open_dataset\n",
    "\n",
    "Making use of the xarray `rainbow` backend. We also need to provide the group."
   ]
  },
  {
   "cell_type": "code",
   "execution_count": null,
   "id": "7675b518-18e4-4ea6-b101-f1bccf603902",
   "metadata": {},
   "outputs": [],
   "source": [
    "ds = xr.open_dataset(filename, group=0, engine=\"rainbow\")\n",
    "display(ds)"
   ]
  },
  {
   "cell_type": "markdown",
   "id": "27465481-21c0-49c4-8e3f-75577bbf965e",
   "metadata": {},
   "source": [
    "## backend_kwargs\n",
    "\n",
    "Beside `first_dim` there are several additional backend_kwargs for the rainbow backend, which handle different aspects of angle alignment. This comes into play, when azimuth and/or elevation arrays are not evenly spacend and other issues."
   ]
  },
  {
   "cell_type": "code",
   "execution_count": null,
   "id": "08f12b48-a3b5-43b7-b9a1-87afa9002fb9",
   "metadata": {},
   "outputs": [],
   "source": [
    "help(xd.io.RainbowBackendEntrypoint)"
   ]
  },
  {
   "cell_type": "code",
   "execution_count": null,
   "id": "dd052e96-9666-40ff-8b9b-3723daf68c32",
   "metadata": {},
   "outputs": [],
   "source": [
    "ds = xr.open_dataset(filename, group=1, engine=\"rainbow\", first_dim=\"time\")\n",
    "display(ds)"
   ]
  },
  {
   "cell_type": "markdown",
   "id": "34aad9c4-dc94-42c4-a29a-3614ebab270f",
   "metadata": {},
   "source": [
    "Please observe the `a1gate`- and `angle_res`-attribute of azimuth-DataArray."
   ]
  },
  {
   "cell_type": "code",
   "execution_count": null,
   "id": "40b3290d-39ef-4ead-aa53-b2967f769e58",
   "metadata": {},
   "outputs": [],
   "source": [
    "ds.azimuth"
   ]
  },
  {
   "cell_type": "markdown",
   "id": "9a09378a-11d9-414f-bc23-0b6f01017d12",
   "metadata": {},
   "source": [
    "## open_odim_datatree\n",
    "\n",
    "The same works analoguous with the datatree loader. But additionally we can provide a sweep string, number or list."
   ]
  },
  {
   "cell_type": "code",
   "execution_count": null,
   "id": "e8485006-ca89-4409-82ab-29ae8f93004a",
   "metadata": {},
   "outputs": [],
   "source": [
    "help(xd.io.open_rainbow_datatree)"
   ]
  },
  {
   "cell_type": "code",
   "execution_count": null,
   "id": "de430cfa-18cd-4e37-ab36-f4e211dbc7c5",
   "metadata": {},
   "outputs": [],
   "source": [
    "dtree = xd.io.open_rainbow_datatree(filename, first_dim=\"auto\")  # , sweep=8)\n",
    "display(dtree)"
   ]
  },
  {
   "cell_type": "code",
   "execution_count": null,
   "id": "9dc09b53-7e2a-4fb6-9b28-a3ae3fd95bd0",
   "metadata": {},
   "outputs": [],
   "source": [
    "dtree = xd.io.open_rainbow_datatree(filename, first_dim=\"auto\", sweep=\"sweep8\")\n",
    "display(dtree)"
   ]
  },
  {
   "cell_type": "code",
   "execution_count": null,
   "id": "41976524-fca8-4569-8b37-867d2214709c",
   "metadata": {},
   "outputs": [],
   "source": [
    "dtree = xd.io.open_rainbow_datatree(filename, first_dim=\"auto\", sweep=[0, 1, 8])\n",
    "display(dtree)"
   ]
  },
  {
   "cell_type": "code",
   "execution_count": null,
   "id": "c4239ebf-f16d-42ee-8f03-a38ecbc04cee",
   "metadata": {},
   "outputs": [],
   "source": [
    "dtree = xd.io.open_rainbow_datatree(\n",
    "    filename, first_dim=\"auto\", sweep=[\"sweep1\", \"sweep2\", \"sweep8\"]\n",
    ")\n",
    "display(dtree)"
   ]
  }
 ],
 "metadata": {
  "language_info": {
   "codemirror_mode": {
    "name": "ipython",
    "version": 3
   },
   "file_extension": ".py",
   "mimetype": "text/x-python",
   "name": "python",
   "nbconvert_exporter": "python",
   "pygments_lexer": "ipython3",
   "version": "3.9.13"
  }
 },
 "nbformat": 4,
 "nbformat_minor": 5
}
