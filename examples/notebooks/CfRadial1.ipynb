{
 "cells": [
  {
   "cell_type": "markdown",
   "id": "59447ad6-ac47-494e-b696-4335b36b205b",
   "metadata": {
    "tags": []
   },
   "source": [
    "# CfRadial1 - Simple"
   ]
  },
  {
   "cell_type": "code",
   "execution_count": null,
   "id": "6f96b5d8-2b96-4fd7-b8ba-166c34a8dcd2",
   "metadata": {},
   "outputs": [],
   "source": [
    "import os\n",
    "import xarray as xr\n",
    "import xradar as xd\n",
    "from urllib.parse import urljoin\n",
    "from urllib.request import urlretrieve"
   ]
  },
  {
   "cell_type": "markdown",
   "id": "33d50be4-dfe5-4d99-a936-67a9a76bac94",
   "metadata": {},
   "source": [
    "## Download\n",
    "\n",
    "Fetching CfRadial1 radar data file from wradlib-data repository."
   ]
  },
  {
   "cell_type": "code",
   "execution_count": null,
   "id": "d3c6d408-5ab2-43c3-afd1-b3a703ef3b24",
   "metadata": {},
   "outputs": [],
   "source": [
    "def fetch_cfradial1_file():\n",
    "    fname = \"cfradial1_data.nc\"\n",
    "    if not os.path.exists(fname):\n",
    "        base_url = \"https://raw.githubusercontent.com/wradlib/wradlib-data/main/netcdf/\"\n",
    "        filename = \"cfrad.20080604_002217_000_SPOL_v36_SUR.nc\"\n",
    "        url = urljoin(base_url, filename)\n",
    "        urlretrieve(url, filename=fname)\n",
    "    return fname\n",
    "\n",
    "\n",
    "filename = fetch_cfradial1_file()"
   ]
  },
  {
   "cell_type": "markdown",
   "id": "b987dcfd-5105-4483-932e-71b8002e5f09",
   "metadata": {},
   "source": [
    "## xr.open_dataset\n",
    "\n",
    "Making use of the xarray `cfradial1` backend. We also need to provide the group."
   ]
  },
  {
   "cell_type": "code",
   "execution_count": null,
   "id": "7675b518-18e4-4ea6-b101-f1bccf603902",
   "metadata": {},
   "outputs": [],
   "source": [
    "ds = xr.open_dataset(filename, group=\"sweep_0\", engine=\"cfradial1\")\n",
    "display(ds)"
   ]
  },
  {
   "cell_type": "markdown",
   "id": "8d754b45-a02a-4e08-be5b-300d184441b6",
   "metadata": {},
   "source": [
    "### Plot Time vs. Azimuth\n",
    "\n",
    "Notice the steps? The time coordinate just has seconds-resolution."
   ]
  },
  {
   "cell_type": "code",
   "execution_count": null,
   "id": "7651de30-7c6c-48c7-b92a-e0c3b47304b0",
   "metadata": {},
   "outputs": [],
   "source": [
    "ds.azimuth.plot()"
   ]
  },
  {
   "cell_type": "code",
   "execution_count": null,
   "id": "63b4a9ca-2882-4240-8c39-d6dd2d872a04",
   "metadata": {},
   "outputs": [],
   "source": [
    "display(ds.time.data[0:20])"
   ]
  },
  {
   "cell_type": "markdown",
   "id": "01ec8c90-2da8-46ae-a0b5-0e1792a79bbe",
   "metadata": {},
   "source": [
    "### Plot Range vs. Time\n",
    "\n",
    "As a consequence the Range vs. Time plots are degraded with regard to resolution."
   ]
  },
  {
   "cell_type": "code",
   "execution_count": null,
   "id": "34429720-e689-4786-99e3-5af9742d19ad",
   "metadata": {},
   "outputs": [],
   "source": [
    "ds.DBZ.plot()"
   ]
  },
  {
   "cell_type": "markdown",
   "id": "d904cd09-8590-42e2-8dce-41d3949d313c",
   "metadata": {},
   "source": [
    "### Range vs. Azimuth\n",
    "\n",
    "We need to sort by azimuth and specify the y-coordinate. \n",
    "\n",
    "Note the finer resolutions here, if we plot Range vs. Azimuth."
   ]
  },
  {
   "cell_type": "code",
   "execution_count": null,
   "id": "6479a374-25ab-42be-b53e-82849b6faffc",
   "metadata": {},
   "outputs": [],
   "source": [
    "ds.DBZ.sortby(\"azimuth\").plot(y=\"azimuth\")"
   ]
  },
  {
   "cell_type": "markdown",
   "id": "4e8378a1-3fde-4eba-9a9d-c6e705d901d3",
   "metadata": {},
   "source": [
    "## open_cfradial1_datatree"
   ]
  },
  {
   "cell_type": "code",
   "execution_count": null,
   "id": "fe841e2d-6f73-4ffa-915e-29c83b268f7a",
   "metadata": {},
   "outputs": [],
   "source": [
    "dtree = xd.io.open_cfradial1_datatree(filename)\n",
    "display(dtree)"
   ]
  },
  {
   "cell_type": "markdown",
   "id": "096daea4-e94d-49d3-9c3d-cb28d866c744",
   "metadata": {},
   "source": [
    "### Plot Sweep Range vs. Time"
   ]
  },
  {
   "cell_type": "code",
   "execution_count": null,
   "id": "971c5baa-119b-4c21-b35f-b6024e5d5d06",
   "metadata": {},
   "outputs": [],
   "source": [
    "dtree[\"sweep_0\"].ds.DBZ.plot()"
   ]
  },
  {
   "cell_type": "markdown",
   "id": "ba98ffd2-4c86-4833-8fb3-080c71d48fb9",
   "metadata": {},
   "source": [
    "### Plot Sweep Range vs. Azimuth"
   ]
  },
  {
   "cell_type": "code",
   "execution_count": null,
   "id": "9be803a2-0979-4f49-9ea1-d7aaf2dd2a16",
   "metadata": {},
   "outputs": [],
   "source": [
    "dtree[\"sweep_0\"].ds.DBZ.sortby(\"azimuth\").plot(y=\"azimuth\")"
   ]
  }
 ],
 "metadata": {
  "language_info": {
   "codemirror_mode": {
    "name": "ipython",
    "version": 3
   },
   "file_extension": ".py",
   "mimetype": "text/x-python",
   "name": "python",
   "nbconvert_exporter": "python",
   "pygments_lexer": "ipython3",
   "version": "3.9.13"
  }
 },
 "nbformat": 4,
 "nbformat_minor": 5
}
