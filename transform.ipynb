{
 "cells": [
  {
   "cell_type": "code",
   "execution_count": null,
   "id": "15778aeb",
   "metadata": {},
   "outputs": [],
   "source": [
    "import xradar as xd\n",
    "from open_radar_data import DATASETS"
   ]
  },
  {
   "cell_type": "code",
   "execution_count": null,
   "id": "29976fc6",
   "metadata": {},
   "outputs": [],
   "source": [
    "f = DATASETS.fetch(\"cfrad.20080604_002217_000_SPOL_v36_SUR.nc\")"
   ]
  },
  {
   "cell_type": "code",
   "execution_count": null,
   "id": "c792d385",
   "metadata": {},
   "outputs": [],
   "source": [
    "dtree = xd.io.open_cfradial1_datatree(f)"
   ]
  },
  {
   "cell_type": "code",
   "execution_count": null,
   "id": "14c44cba",
   "metadata": {},
   "outputs": [],
   "source": [
    "dtree"
   ]
  },
  {
   "cell_type": "code",
   "execution_count": null,
   "id": "04e429be",
   "metadata": {},
   "outputs": [],
   "source": [
    "ds = dtree.to_cf1()"
   ]
  },
  {
   "cell_type": "code",
   "execution_count": null,
   "id": "8ef9203a",
   "metadata": {},
   "outputs": [],
   "source": [
    "dtree2 = ds.to_cf2()"
   ]
  },
  {
   "cell_type": "code",
   "execution_count": null,
   "id": "5e67a8f3",
   "metadata": {},
   "outputs": [],
   "source": [
    "dtreenew = ds.to_cfradial2_datatree()"
   ]
  },
  {
   "cell_type": "code",
   "execution_count": null,
   "id": "2c35c1d7",
   "metadata": {},
   "outputs": [],
   "source": [
    "dtreenew"
   ]
  },
  {
   "cell_type": "code",
   "execution_count": null,
   "id": "adde2815",
   "metadata": {},
   "outputs": [],
   "source": [
    "type(dtreenew)"
   ]
  },
  {
   "cell_type": "code",
   "execution_count": null,
   "id": "3a1ae5fd",
   "metadata": {},
   "outputs": [],
   "source": [
    "ds = dtreenew.to_cfradial1_dataset()"
   ]
  },
  {
   "cell_type": "code",
   "execution_count": null,
   "id": "f3dfd2ac",
   "metadata": {},
   "outputs": [],
   "source": [
    "type(ds)"
   ]
  },
  {
   "cell_type": "code",
   "execution_count": null,
   "id": "ec384942",
   "metadata": {},
   "outputs": [],
   "source": []
  },
  {
   "cell_type": "code",
   "execution_count": null,
   "id": "601382ba",
   "metadata": {},
   "outputs": [],
   "source": []
  },
  {
   "cell_type": "code",
   "execution_count": null,
   "id": "eb6eb739",
   "metadata": {},
   "outputs": [],
   "source": []
  }
 ],
 "metadata": {
  "language_info": {
   "codemirror_mode": {
    "name": "ipython",
    "version": 3
   },
   "file_extension": ".py",
   "mimetype": "text/x-python",
   "name": "python",
   "nbconvert_exporter": "python",
   "pygments_lexer": "ipython3",
   "version": "3.11.5"
  }
 },
 "nbformat": 4,
 "nbformat_minor": 5
}
